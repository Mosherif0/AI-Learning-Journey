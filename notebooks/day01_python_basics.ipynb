{
  "nbformat": 4,
  "nbformat_minor": 0,
  "metadata": {
    "colab": {
      "provenance": []
    },
    "kernelspec": {
      "name": "python3",
      "display_name": "Python 3"
    },
    "language_info": {
      "name": "python"
    }
  },
  "cells": [
    {
      "cell_type": "markdown",
      "source": [
        "# Print Text **< Hello World >**"
      ],
      "metadata": {
        "id": "c9RW3PFJl6RB"
      }
    },
    {
      "cell_type": "markdown",
      "source": [],
      "metadata": {
        "id": "WSFEHbYRmHL2"
      }
    },
    {
      "cell_type": "code",
      "source": [
        "print(\"Hello world\")"
      ],
      "metadata": {
        "colab": {
          "base_uri": "https://localhost:8080/"
        },
        "id": "Q9I0MH5nmLlW",
        "outputId": "b5115ff7-a138-40ff-a4a6-e8cdc3319fc0"
      },
      "execution_count": 2,
      "outputs": [
        {
          "output_type": "stream",
          "name": "stdout",
          "text": [
            "Hello world\n"
          ]
        }
      ]
    },
    {
      "cell_type": "markdown",
      "source": [
        "# Variables"
      ],
      "metadata": {
        "id": "0o_XbrBYmZA5"
      }
    },
    {
      "cell_type": "code",
      "source": [
        "name = \"Mohamed\" #string\n",
        "age = 21 #int\n",
        "money = 500.5 #float\n",
        "happy = True #bool (True , False)\n",
        "\n",
        "print(\"name : \" + name)\n",
        "print(\"age : \" + str(age)) #can only concatenate str (not \"int\") to str\n",
        "print(\"money : \" + str(money)) #can only concatenate str (not \"float\") to str\n",
        "print(\"happy : \" + str(happy)) #can only concatenate str (not \"bool\") to str"
      ],
      "metadata": {
        "colab": {
          "base_uri": "https://localhost:8080/"
        },
        "id": "9DNcWwpsmiFq",
        "outputId": "98c64b63-3581-41cc-deeb-2dac65c28c46"
      },
      "execution_count": 7,
      "outputs": [
        {
          "output_type": "stream",
          "name": "stdout",
          "text": [
            "name : Mohamed\n",
            "age : 21\n",
            "money : 500.5\n",
            "happy : True\n"
          ]
        }
      ]
    },
    {
      "cell_type": "markdown",
      "source": [
        "# Input"
      ],
      "metadata": {
        "id": "qbUxqckjqAA3"
      }
    },
    {
      "cell_type": "code",
      "source": [
        "name = input(\"enter your name : \")\n",
        "age = input(\"enter your age : \")\n",
        "money = input(\"enter your money : \")\n",
        "happy = input(\"are you happy ? : \")\n",
        "\n",
        "print(\"########################\")\n",
        "\n",
        "print(\"name: \"+ name)\n",
        "print(\"age: \"+ str(age))\n",
        "print(\"money: \"+ str(money))\n",
        "print(\"happy: \"+ str(happy))"
      ],
      "metadata": {
        "colab": {
          "base_uri": "https://localhost:8080/"
        },
        "id": "8FrwGx4_qER-",
        "outputId": "55c1cd4b-e162-41f1-b060-266809114d9c"
      },
      "execution_count": 10,
      "outputs": [
        {
          "output_type": "stream",
          "name": "stdout",
          "text": [
            "enter your name : mo\n",
            "enter your age : 23\n",
            "enter your money : 32.4\n",
            "are you happy ? : False\n",
            "########################\n",
            "name: mo\n",
            "age: 23\n",
            "money: 32.4\n",
            "happy: False\n"
          ]
        }
      ]
    },
    {
      "cell_type": "markdown",
      "source": [
        "# Naming"
      ],
      "metadata": {
        "id": "ZKQ1BOJQsFgl"
      }
    },
    {
      "cell_type": "code",
      "source": [
        "has_money = True #underscore\n",
        "hasMoney = True #camelCase\n",
        "HasMoney = True #PascalCase"
      ],
      "metadata": {
        "id": "Pmu5bh-4sHuF"
      },
      "execution_count": null,
      "outputs": []
    },
    {
      "cell_type": "markdown",
      "source": [
        "# Conditions"
      ],
      "metadata": {
        "id": "RyiKVkRysaTR"
      }
    },
    {
      "cell_type": "code",
      "source": [
        "storage = int(input(\"enter your storage : \"))\n",
        "\n",
        "if storage < 3000:\n",
        "  print(\"you have less than 3000GB Storage\")\n",
        "elif storage == 3000:\n",
        "  print(\"you have 3000GB Storage\")\n",
        "else:\n",
        "  print(\"you have more than 3000GB Storage\")\n",
        "\n",
        "age = int(input(\"enter your age : \"))\n",
        "mesage = \"you can drive\" if age >= 15 else \"you cant drive\"\n",
        "print(mesage)"
      ],
      "metadata": {
        "colab": {
          "base_uri": "https://localhost:8080/"
        },
        "id": "GUxKZzOnscud",
        "outputId": "fc089243-f4e1-46ff-bd88-a2a300c4691b"
      },
      "execution_count": 24,
      "outputs": [
        {
          "output_type": "stream",
          "name": "stdout",
          "text": [
            "enter your storage : 13499\n",
            "you have more than 3000GB Storage\n",
            "enter your age : 23\n",
            "you can drive\n"
          ]
        }
      ]
    },
    {
      "cell_type": "markdown",
      "source": [
        "# Logical operations"
      ],
      "metadata": {
        "id": "YGKQCKS6xjqI"
      }
    },
    {
      "cell_type": "code",
      "source": [
        "#and all the conditions must be ... True > true\n",
        "#or just one conditions is true > true\n",
        "\n",
        "hungry = False\n",
        "food = True\n",
        "eat = False\n",
        "\n",
        "if hungry and food or eat:\n",
        "  print(\"you are hungry and you have food\")\n",
        "elif hungry or food:\n",
        "  print(\"you are hungry or you have food\")\n",
        "else:\n",
        "  print(\"you are not hungry and you dont have food\")"
      ],
      "metadata": {
        "colab": {
          "base_uri": "https://localhost:8080/"
        },
        "id": "OkzmJLEzxmiI",
        "outputId": "93de7391-2c5a-4694-8adf-8d15e5a839d7"
      },
      "execution_count": 33,
      "outputs": [
        {
          "output_type": "stream",
          "name": "stdout",
          "text": [
            "you are hungry or you have food\n"
          ]
        }
      ]
    },
    {
      "cell_type": "markdown",
      "source": [
        "# LOOPS (while , For)"
      ],
      "metadata": {
        "id": "wYOV88UBzx3A"
      }
    },
    {
      "cell_type": "code",
      "source": [
        "number = 0\n",
        "\n",
        "while number <=5:\n",
        "  print(number)\n",
        "  number = number +1\n",
        "\n",
        "print(\"done\")\n",
        "\n",
        "for number in range(1, 6):  #(number - 1)\n",
        "  print(number)"
      ],
      "metadata": {
        "colab": {
          "base_uri": "https://localhost:8080/"
        },
        "id": "IF8JvwODzz0v",
        "outputId": "6afb9c62-1c87-47ec-eca2-b5619734e64d"
      },
      "execution_count": 42,
      "outputs": [
        {
          "output_type": "stream",
          "name": "stdout",
          "text": [
            "0\n",
            "1\n",
            "2\n",
            "3\n",
            "4\n",
            "5\n",
            "done\n",
            "1\n",
            "2\n",
            "3\n",
            "4\n",
            "5\n"
          ]
        }
      ]
    },
    {
      "cell_type": "markdown",
      "source": [
        "# Functions"
      ],
      "metadata": {
        "id": "WGec4_1C-1UK"
      }
    },
    {
      "cell_type": "code",
      "source": [
        "def salary(bonus, y=9):\n",
        "  return 1000 + bonus - y\n",
        "\n",
        "print(salary(10))\n",
        "print(salary(23))\n",
        "print(salary(0))\n"
      ],
      "metadata": {
        "colab": {
          "base_uri": "https://localhost:8080/"
        },
        "id": "IoqLSNNq-3ge",
        "outputId": "9e03b98d-e888-4b03-852c-5e0b2dcd8fd4"
      },
      "execution_count": 53,
      "outputs": [
        {
          "output_type": "stream",
          "name": "stdout",
          "text": [
            "1001\n",
            "1014\n",
            "991\n"
          ]
        }
      ]
    },
    {
      "cell_type": "markdown",
      "source": [
        "# Array basics"
      ],
      "metadata": {
        "id": "EJW1tvImDuZ-"
      }
    },
    {
      "cell_type": "code",
      "source": [
        "# list (Array)\n",
        "std = [\"mohamed\",\"ahmed\",\"ali\"] #size = 3 , lenght = 0,1,2 (size - 1)\n",
        "print(std[0]) # O(1)\n",
        "\n",
        "# O(2)\n",
        "print(std[2])\n",
        "print(std[2])\n",
        "\n",
        "# time complexity > performance of algorthim\n",
        "# O(n)\n",
        "\n"
      ],
      "metadata": {
        "colab": {
          "base_uri": "https://localhost:8080/"
        },
        "id": "RxHTkb4SD05v",
        "outputId": "e32000c1-03b6-4db6-e526-c814355dd40a"
      },
      "execution_count": 59,
      "outputs": [
        {
          "output_type": "stream",
          "name": "stdout",
          "text": [
            "mohamed\n"
          ]
        }
      ]
    },
    {
      "cell_type": "markdown",
      "source": [
        "# Looping Array"
      ],
      "metadata": {
        "id": "Drul9lx_F1iK"
      }
    },
    {
      "cell_type": "code",
      "source": [
        "grades = [10,20,30,40,50,60,70,80,90,100] #size = 10\n",
        "\n",
        "for index in range(0 , 10):\n",
        "  print(grades[index])"
      ],
      "metadata": {
        "colab": {
          "base_uri": "https://localhost:8080/"
        },
        "id": "nEuFgeW8F242",
        "outputId": "a2c75114-3319-4d69-ca40-128567225ff5"
      },
      "execution_count": 63,
      "outputs": [
        {
          "output_type": "stream",
          "name": "stdout",
          "text": [
            "10\n",
            "20\n",
            "30\n",
            "40\n",
            "50\n",
            "60\n",
            "70\n",
            "80\n",
            "90\n",
            "100\n"
          ]
        }
      ]
    },
    {
      "cell_type": "markdown",
      "source": [
        "# Array Data Type"
      ],
      "metadata": {
        "id": "DxdlbAEEJcWw"
      }
    },
    {
      "cell_type": "code",
      "source": [
        "grad = [10,20,30]\n",
        "std = [\"mohamed\", \"samy\" , \"sameh\"]\n",
        "\n",
        "all = [\"mohamed\" , 20 , 304.4 , True] # str , int , float , bool\n",
        "print(all[-3])\n",
        "\n",
        "x = \"mohamed\"\n",
        "print(x[0:2])"
      ],
      "metadata": {
        "colab": {
          "base_uri": "https://localhost:8080/"
        },
        "id": "pY4cPBYEJf04",
        "outputId": "00f31613-c3cd-40c3-b01f-d64372404b0a"
      },
      "execution_count": 73,
      "outputs": [
        {
          "output_type": "stream",
          "name": "stdout",
          "text": [
            "20\n",
            "mo\n"
          ]
        }
      ]
    },
    {
      "cell_type": "markdown",
      "source": [
        "# Bubble sort Algorithm"
      ],
      "metadata": {
        "id": "zTOg6VOMTfCK"
      }
    },
    {
      "cell_type": "code",
      "source": [
        "ar = [5 , 34 , 2 , 4 , 9, 8]\n",
        "#lenth of array\n",
        "lona = len(ar)\n",
        "print(lona)\n",
        "#loop in element in array\n",
        "for index in range(0 , lona - index - 1):\n",
        "  first = ar[index]\n",
        "  second = ar[index + 1]\n",
        "  if first > second:\n",
        "    ar[index] = second\n",
        "    ar[index + 1] = first\n",
        "print(ar)\n",
        "\n",
        "print(\"#######\")\n",
        "ar.sort(reverse= True)\n",
        "print(ar)\n",
        "print(\"#######\")\n",
        "ar.sort()\n",
        "print(ar)\n",
        "\n",
        "print(\"## Insert ##\")\n",
        "ar.append(100)\n",
        "print(ar)\n",
        "\n",
        "grd = []\n",
        "for index in range(0,5):\n",
        "  grd.append(int(input(\"enter your grade : \")))\n",
        "print(grd)\n",
        "\n",
        "# grd = []\n",
        "# for index in range(0,5):\n",
        "#   grd = input(\"enter your grade : \")\n",
        "#   grd.append(int(grd))\n",
        "#   grd.sort()\n",
        "# print(grd)\n"
      ],
      "metadata": {
        "colab": {
          "base_uri": "https://localhost:8080/"
        },
        "id": "h6M6yKN5UrgQ",
        "outputId": "1be9235d-61eb-4330-c664-7080f18ca442"
      },
      "execution_count": 25,
      "outputs": [
        {
          "output_type": "stream",
          "name": "stdout",
          "text": [
            "6\n",
            "[5, 2, 4, 9, 8, 34]\n",
            "#######\n",
            "[34, 9, 8, 5, 4, 2]\n",
            "#######\n",
            "[2, 4, 5, 8, 9, 34]\n",
            "## Insert ##\n",
            "[2, 4, 5, 8, 9, 34, 100]\n",
            "enter your grade : 5\n",
            "enter your grade : 7\n",
            "enter your grade : 9\n",
            "enter your grade : 5\n",
            "enter your grade : 4\n",
            "[5, 7, 9, 5, 4]\n"
          ]
        }
      ]
    },
    {
      "cell_type": "markdown",
      "source": [
        "# Search"
      ],
      "metadata": {
        "id": "mM2v-mW4cGlJ"
      }
    },
    {
      "cell_type": "code",
      "source": [
        "levels = [1 ,23, 11, 34,34 ]\n",
        "search = 11\n",
        "\n",
        "for index in range(0 , len(levels)):\n",
        "  if levels[index] == search:\n",
        "    print(\"found 11 index\")\n",
        "    break\n",
        "  else:\n",
        "    print(\"not found\")"
      ],
      "metadata": {
        "colab": {
          "base_uri": "https://localhost:8080/"
        },
        "id": "kcG9zVm5cJeS",
        "outputId": "252247a2-da5a-4e21-8147-939263f6ac47"
      },
      "execution_count": 29,
      "outputs": [
        {
          "output_type": "stream",
          "name": "stdout",
          "text": [
            "not found\n",
            "not found\n",
            "found 11 index\n"
          ]
        }
      ]
    },
    {
      "cell_type": "markdown",
      "source": [
        "# Binary search"
      ],
      "metadata": {
        "id": "ATtTxlWIdFoI"
      }
    },
    {
      "cell_type": "code",
      "source": [
        "# linear search : O(n)\n",
        "# Binary search : O(log n)\n",
        "\n",
        "def BinarySearch(arrays,search, first, last):\n",
        "  while last <= first:\n",
        "    mid = last - ((last - first) // 2)\n",
        "\n",
        "    if arrays[mid] == search:\n",
        "      return mid\n",
        "\n",
        "    elif arrays[mid] < search:\n",
        "      last = mid - 1\n",
        "\n",
        "    else:\n",
        "      first = mid + 1\n",
        "\n",
        "  return - 1\n",
        "\n",
        "# sorted arrray ....\n",
        "levels = [1 ,23, 11, 34,34 ]\n",
        "search = 34\n",
        "\n",
        "result = BinarySearch(levels , 34 , 0 , len(levels) - 1)\n",
        "print(result)"
      ],
      "metadata": {
        "colab": {
          "base_uri": "https://localhost:8080/"
        },
        "id": "102SVy_VdJsi",
        "outputId": "04fadb16-5584-477b-e119-f870a720f421"
      },
      "execution_count": 37,
      "outputs": [
        {
          "output_type": "stream",
          "name": "stdout",
          "text": [
            "-1\n"
          ]
        }
      ]
    },
    {
      "cell_type": "markdown",
      "source": [
        "# Tuple"
      ],
      "metadata": {
        "id": "4KNvCRGXfrVM"
      }
    },
    {
      "cell_type": "code",
      "source": [
        "levels =( 1,2,3,4,5 )\n",
        "print(levels)"
      ],
      "metadata": {
        "colab": {
          "base_uri": "https://localhost:8080/"
        },
        "id": "xqiWMrRCfu3n",
        "outputId": "bb3dc894-61b7-4e47-bd79-f4d1d1af2087"
      },
      "execution_count": 38,
      "outputs": [
        {
          "output_type": "stream",
          "name": "stdout",
          "text": [
            "(1, 2, 3, 4, 5)\n"
          ]
        }
      ]
    },
    {
      "cell_type": "markdown",
      "source": [
        "# Hash Table (Dictionary)"
      ],
      "metadata": {
        "id": "KScp10fNf8hY"
      }
    },
    {
      "cell_type": "code",
      "source": [
        "# name = \"mohamed\"\n",
        "# age = 24\n",
        "# happy = True\n",
        "# money = 50.34\n",
        "\n",
        "# print(name , age , happy , money)\n",
        "\n",
        "person0 = {\"name\":\"mohamed\" , \"age\":24 , \"happy\":True , \"money\":50.34}\n",
        "person1 = {\"name\":\"ahmed\" , \"age\":44 , \"happy\":False , \"money\":50.34}\n",
        "person2 = {\"name\":\"ali\" , \"age\":14 , \"happy\":True , \"money\":50.34}\n",
        "\n",
        "persons = [person0 , person1 , person2]\n",
        "\n",
        "for index in range(0, len(persons)):\n",
        "  print(persons[index]['name'])\n"
      ],
      "metadata": {
        "colab": {
          "base_uri": "https://localhost:8080/"
        },
        "id": "l39fdcrIgLOc",
        "outputId": "d4a5715d-3f1a-411e-f355-ffd182d20ad7"
      },
      "execution_count": 44,
      "outputs": [
        {
          "output_type": "stream",
          "name": "stdout",
          "text": [
            "mohamed\n",
            "ahmed\n",
            "ali\n"
          ]
        }
      ]
    }
  ]
}